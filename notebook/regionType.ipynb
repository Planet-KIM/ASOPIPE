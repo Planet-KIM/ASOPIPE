{
 "cells": [
  {
   "cell_type": "code",
   "execution_count": 3,
   "id": "07befd3f",
   "metadata": {},
   "outputs": [],
   "source": [
    "from jklib.genome import loadBlatOutput\n",
    "refFlat_path=\"/Users/dowonkim/Dropbox/data/UCSC/hg38/refFlat/refFlat_200817.txt\"\n",
    "refFlat = loadBlatOutput(refFlat_path, by='transID')\n"
   ]
  },
  {
   "cell_type": "code",
   "execution_count": 4,
   "id": "d392d38f",
   "metadata": {},
   "outputs": [],
   "source": [
    "transid=\"NM_002415\"\n",
    "mif_first_loc = \"chr22:23894382-23894398\"\n"
   ]
  },
  {
   "cell_type": "code",
   "execution_count": 11,
   "id": "fd6982c4",
   "metadata": {},
   "outputs": [],
   "source": [
    "transID = transid.split('.')[0]\n",
    "tinfoL = [tinfo for tinfo in refFlat[transID] if len(tinfo['chrom'].split('_')) == 1]\n",
    "tinfoL.sort(key=lambda x: int(x['txnLen']), reverse=True)\n",
    "transInfo = tinfoL[0]"
   ]
  },
  {
   "cell_type": "code",
   "execution_count": 14,
   "id": "277062ef",
   "metadata": {},
   "outputs": [],
   "source": [
    "h_tmp = {transInfo['chrom']: [transInfo]}"
   ]
  },
  {
   "cell_type": "code",
   "execution_count": 29,
   "id": "90ecae57",
   "metadata": {},
   "outputs": [
    {
     "name": "stderr",
     "output_type": "stream",
     "text": [
      "<>:16: SyntaxWarning: \"is\" with a literal. Did you mean \"==\"?\n",
      "<>:16: SyntaxWarning: \"is\" with a literal. Did you mean \"==\"?\n",
      "/var/folders/hs/b7y1nwdd4pdc_1pt89sgclgm0000gn/T/ipykernel_85317/2046141302.py:16: SyntaxWarning: \"is\" with a literal. Did you mean \"==\"?\n",
      "  elif a[0][0] is 'i': #intron\n"
     ]
    },
    {
     "name": "stdout",
     "output_type": "stream",
     "text": [
      "Elapsed: 13.038673877716064 sec\n"
     ]
    }
   ],
   "source": [
    "from jklib.genome import getRegionType, locus\n",
    "import time\n",
    "\n",
    "t0   = time.time()\n",
    "test= []\n",
    "for i in range(1, 100000):\n",
    "    loc = locus(mif_first_loc)\n",
    "    locstr   = loc.toString()\n",
    "    loc_tmp = locus(f'{loc.chrom}:{loc.chrSta+1}-{loc.chrEnd-1}{loc.strand}')\n",
    "    #flagL = [ e[3] for e in getRegionType(h_tmp, loc_tmp)]\n",
    "    flagL = [ e[3] for e in loc_tmp.regionType()]\n",
    "    flag = []\n",
    "    for a in flagL[0]:\n",
    "        if a[0][0] in 'cu': #exon flag ['cds','utr']\n",
    "            flag.append('e')\n",
    "        elif a[0][0] is 'i': #intron\n",
    "            flag.append('i')\n",
    "\n",
    "    regionT = '/'.join(map(str,loc.regionType()))\n",
    "    test.append(regionT)\n",
    "print(\"Elapsed:\", time.time() - t0, \"sec\")"
   ]
  },
  {
   "cell_type": "code",
   "execution_count": 30,
   "id": "cd6f402e",
   "metadata": {},
   "outputs": [
    {
     "data": {
      "text/plain": [
       "99999"
      ]
     },
     "execution_count": 30,
     "metadata": {},
     "output_type": "execute_result"
    }
   ],
   "source": [
    "len(test)"
   ]
  },
  {
   "cell_type": "code",
   "execution_count": 1,
   "id": "cee8e5e5",
   "metadata": {},
   "outputs": [],
   "source": [
    "import sys\n",
    "sys.path.append('..')\n",
    "from asopipe.utils.align.maf_th import MultipleAlignmentReader\n",
    "from asopipe.utils.rna import RNAcofold2, containCommonSNP\n",
    "from cyvcf2 import VCF   # pip install cyvcf2\n",
    "from jklib.genome import locus\n",
    "dbsnp_path =\"/Users/dowonkim/Dropbox/data/VCF/dbsnp.bcf\"\n",
    "vcf = VCF(dbsnp_path)  \n",
    "mif=\"chr22:23894385-23894401-\"\n",
    "loc = locus(mif)\n",
    "for i in range(1, 100000):\n",
    "    containCommonSNP(loc=loc, cSNP=vcf)"
   ]
  },
  {
   "cell_type": "code",
   "execution_count": 8,
   "id": "63ff3a02",
   "metadata": {},
   "outputs": [
    {
     "data": {
      "text/plain": [
       "PosixPath('/Users/dowonkim')"
      ]
     },
     "execution_count": 8,
     "metadata": {},
     "output_type": "execute_result"
    }
   ],
   "source": [
    "import pathlib\n",
    "\n",
    "pathlib.Path.home()"
   ]
  },
  {
   "cell_type": "code",
   "execution_count": null,
   "id": "afcff12b",
   "metadata": {},
   "outputs": [
    {
     "name": "stdout",
     "output_type": "stream",
     "text": [
      "[]\n"
     ]
    },
    {
     "name": "stderr",
     "output_type": "stream",
     "text": [
      "[E::hts_parse_region] Unexpected string \"-\" after region\n",
      "/var/folders/hs/b7y1nwdd4pdc_1pt89sgclgm0000gn/T/ipykernel_44112/3742735915.py:9: UserWarning: no intervals found for b'/Users/dowonkim/Dropbox/data/VCF/dbsnp.bcf' at 22:23894385-23894401-\n",
      "  resultL = [(v.CHROM, v.POS ,v.REF, v.ALT[0], v.INFO)  for v in vcf(mif.replace(\"chr\", \"\"))]\n"
     ]
    }
   ],
   "source": [
    "from cyvcf2 import VCF   # pip install cyvcf2\n",
    "from jklib.genome import locus\n",
    "dbsnp_path =\"/Users/dowonkim/Dropbox/data/VCF/dbsnp.bcf\"\n",
    "vcf = VCF(dbsnp_path)          # .csi 인덱스 자동 사용\n",
    "\n",
    "#mif=\"chr22:23894382-23894398\"\n",
    "mif=\"chr22:23894385-23894401-\"\n",
    "for i in range(1, 2):\n",
    "    resultL = [(v.CHROM, v.POS ,v.REF, v.ALT[0], v.INFO)  for v in vcf(mif.replace(\"chr\", \"\"))]\n",
    "    print(resultL)\n",
    "\n",
    "#resultL = [ rec[:] for rec in vcf(mif.replace(\"chr\", \"\")) ]\n",
    "#resultL, vcf\n"
   ]
  },
  {
   "cell_type": "code",
   "execution_count": 68,
   "id": "59b80120",
   "metadata": {},
   "outputs": [
    {
     "name": "stdout",
     "output_type": "stream",
     "text": [
      "hee\n"
     ]
    },
    {
     "data": {
      "text/plain": [
       "(\"<class '_cython_3_0_10.generator'>\", \"<class 'NoneType'>\")"
      ]
     },
     "execution_count": 68,
     "metadata": {},
     "output_type": "execute_result"
    }
   ],
   "source": [
    "type(vcf(mif)) #== \"_cython_3_0_10.generator\"\n",
    "\n",
    "CYTHON_GEN_TYPE = str(type(vcf(mif)))\n",
    "if 'cython' in CYTHON_GEN_TYPE and 'generator' in CYTHON_GEN_TYPE:\n",
    "    print('hee')\n",
    "#if isinstance(obj, CYTHON_GEN_TYPE):\n",
    "#    print(\"Cython generator입니다.\")\n",
    "CYTHON_GEN_TYPE, str(type(None))"
   ]
  },
  {
   "cell_type": "code",
   "execution_count": 38,
   "id": "9f25bf7c",
   "metadata": {},
   "outputs": [
    {
     "data": {
      "text/plain": [
       "[['22',\n",
       "  '23894401',\n",
       "  'rs112568463',\n",
       "  'A',\n",
       "  'T',\n",
       "  '.',\n",
       "  '.',\n",
       "  'RS=112568463;RSPOS=23894401;dbSNPBuildID=132;SSR=0;SAO=0;VP=0x050100400005040436000100;GENEINFO=MIF:4282|MIF-AS1:284889;WGT=1;VC=SNV;SLO;U5;ASP;VLD;HD;KGPhase1;KGPhase3;CAF=0.9946,0.005391;COMMON=1;TOPMED=0.99173356269113149,0.00826643730886850']]"
      ]
     },
     "execution_count": 38,
     "metadata": {},
     "output_type": "execute_result"
    }
   ],
   "source": [
    "cSNP = CommonSNP()\n",
    "cSNP.query(locus(mif))"
   ]
  },
  {
   "cell_type": "code",
   "execution_count": null,
   "id": "e958914c",
   "metadata": {},
   "outputs": [],
   "source": []
  }
 ],
 "metadata": {
  "kernelspec": {
   "display_name": "portal",
   "language": "python",
   "name": "python3"
  },
  "language_info": {
   "codemirror_mode": {
    "name": "ipython",
    "version": 3
   },
   "file_extension": ".py",
   "mimetype": "text/x-python",
   "name": "python",
   "nbconvert_exporter": "python",
   "pygments_lexer": "ipython3",
   "version": "3.8.12"
  }
 },
 "nbformat": 4,
 "nbformat_minor": 5
}
