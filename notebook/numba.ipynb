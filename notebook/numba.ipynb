{
 "cells": [
  {
   "cell_type": "code",
   "execution_count": 28,
   "id": "ef866ffa",
   "metadata": {},
   "outputs": [],
   "source": [
    "\"\"\"\n",
    "index_finder.py – Python 3.8‑friendly, type‑hint‑free, **Numba 지원** 문자열·숫자 겸용 고속 인덱스 라이브러리\n",
    "\n",
    "Public API\n",
    "----------\n",
    "    build_index(a, engine='auto') -> Index\n",
    "    find_indices(a, b, engine='auto') -> list[int] | numpy.ndarray[int]\n",
    "\n",
    "Notes\n",
    "-----\n",
    "* `engine='auto'` : array 크기·데이터 종류·Numba 설치 여부로 적절 backend 선택\n",
    "* Numba backend 는 **숫자(int/float)** 뿐만 아니라 **문자열(str)** 도 지원 (Numba 0.56+) \n",
    "  * 숫자 → `typed.Dict[int64,int64]`\n",
    "  * 문자열 → `typed.Dict[unicode,int64]`\n",
    "\"\"\"\n",
    "\n",
    "import numpy as np\n",
    "\n",
    "# ---------------------------------------------------------------------------\n",
    "#  Optional Numba backend ----------------------------------------------------\n",
    "# ---------------------------------------------------------------------------\n",
    "try:\n",
    "    import numba  # type: ignore\n",
    "    from numba import njit, types  # type: ignore\n",
    "    from numba.typed import Dict as NumbaDict  # type: ignore\n",
    "\n",
    "    _HAS_NUMBA = True\n",
    "except ModuleNotFoundError:  # pragma: no cover\n",
    "    _HAS_NUMBA = False\n",
    "\n",
    "__all__ = [\"build_index\", \"find_indices\", \"Index\"]\n",
    "\n",
    "# ---------------------------------------------------------------------------\n",
    "#  Core container\n",
    "# ---------------------------------------------------------------------------\n",
    "\n",
    "class Index:\n",
    "    \"\"\"Lookup object – call with a sequence to fetch indices (‑1 if absent).\"\"\"\n",
    "\n",
    "    __slots__ = (\"_map\", \"_engine\")\n",
    "\n",
    "    def __init__(self, mapping, engine):\n",
    "        self._map = mapping\n",
    "        self._engine = engine  # 'python' | 'numpy' | 'numba_num' | 'numba_str'\n",
    "\n",
    "    # ---------------- public API ---------------- #\n",
    "    def lookup(self, b):\n",
    "        if self._engine == \"numba_num\":\n",
    "            return _lookup_num(d=self._map, b_np=np.asarray(b, dtype=np.int64))\n",
    "        if self._engine == \"numba_str\":\n",
    "            return _lookup_str(d=self._map, b_list=list(b))\n",
    "        return [self._map.get(x, -1) for x in b]\n",
    "\n",
    "    __call__ = lookup  # alias\n",
    "    def __getitem__(self, item):\n",
    "        return self._map.get(item, -1)\n",
    "\n",
    "    def __repr__(self):  # pragma: no cover\n",
    "        return f\"<Index engine={self._engine} size={len(self._map)}>\"\n",
    "\n",
    "# ---------------------------------------------------------------------------\n",
    "#  Builder -------------------------------------------------------------------\n",
    "# ---------------------------------------------------------------------------\n",
    "\n",
    "def build_index(a, engine=\"auto\"):\n",
    "    \"\"\"Pre‑compute an index structure for *a* (first occurrence per key).\n",
    "\n",
    "    Parameters\n",
    "    ----------\n",
    "    a : sequence‑like (list/ndarray)\n",
    "    engine : {\"auto\", \"python\", \"numpy\", \"numba\"}\n",
    "    \"\"\"\n",
    "    if engine == \"auto\":\n",
    "        engine = _pick_engine(a)\n",
    "\n",
    "    # ---------- pure‑python ---------- #\n",
    "    if engine == \"python\":\n",
    "        return Index({v: i for i, v in enumerate(a)}, \"python\")\n",
    "\n",
    "    # ---------- numpy backend ---------- #\n",
    "    arr = np.asarray(a)\n",
    "    if engine == \"numpy\":\n",
    "        uniq, first_pos = _first_pos_numpy(arr)\n",
    "        return Index(dict(zip(uniq.tolist(), first_pos.tolist())), \"numpy\")\n",
    "\n",
    "    # ---------- numba backend ---------- #\n",
    "    if engine == \"numba\":\n",
    "        if not _HAS_NUMBA:\n",
    "            raise RuntimeError(\"Numba not installed; choose another engine.\")\n",
    "\n",
    "        kind = arr.dtype.kind\n",
    "        if kind in {\"i\", \"u\", \"f\"}:  # numeric\n",
    "            mapping = _build_num(arr.astype(np.int64))\n",
    "            return Index(mapping, \"numba_num\")\n",
    "\n",
    "        # treat as string (unicode/object)\n",
    "        py_list = [str(x) for x in a]  # ensure Python str\n",
    "        mapping = _build_str(py_list)\n",
    "        return Index(mapping, \"numba_str\")\n",
    "\n",
    "    raise ValueError(\n",
    "        f\"Unknown engine {engine!r} – choose 'auto', 'python', 'numpy', or 'numba'.\")\n",
    "\n",
    "\n",
    "def find_indices(a, b, engine=\"auto\"):\n",
    "    \"\"\"Convenience: build index then look up *b*.\"\"\"\n",
    "    return build_index(a, engine).lookup(b)\n",
    "\n",
    "# ---------------------------------------------------------------------------\n",
    "#  Numpy helper --------------------------------------------------------------\n",
    "# ---------------------------------------------------------------------------\n",
    "\n",
    "def _first_pos_numpy(arr):\n",
    "    order = arr.argsort(kind=\"mergesort\")  # stable sort to keep first position\n",
    "    sorted_arr = arr[order]\n",
    "    mask = np.empty(len(arr), dtype=bool)\n",
    "    mask[0] = True\n",
    "    mask[1:] = sorted_arr[1:] != sorted_arr[:-1]\n",
    "    return sorted_arr[mask], order[mask]\n",
    "\n",
    "# ---------------------------------------------------------------------------\n",
    "#  Numba helpers -------------------------------------------------------------\n",
    "# ---------------------------------------------------------------------------\n",
    "if _HAS_NUMBA:\n",
    "\n",
    "    # ---- numeric ---- #\n",
    "    @njit(cache=True)\n",
    "    def _build_num(a_np):\n",
    "        d = NumbaDict.empty(key_type=types.int64, value_type=types.int64)\n",
    "        for i in range(a_np.size):\n",
    "            v = int(a_np[i])\n",
    "            if v not in d:\n",
    "                d[v] = i\n",
    "        return d\n",
    "\n",
    "    @njit(cache=True)\n",
    "    def _lookup_num(d, b_np):\n",
    "        out = np.empty(b_np.size, dtype=np.int64)\n",
    "        for i in range(b_np.size):\n",
    "            k = int(b_np[i])\n",
    "            out[i] = d.get(k, -1)\n",
    "        return out\n",
    "\n",
    "    # ---- string ---- #\n",
    "    @njit(cache=True)\n",
    "    def _build_str(a_list):\n",
    "        d = NumbaDict.empty(key_type=types.unicode_type, value_type=types.int64)\n",
    "        for i in range(len(a_list)):\n",
    "            v = a_list[i]\n",
    "            if v not in d:\n",
    "                d[v] = i\n",
    "        return d\n",
    "\n",
    "    @njit(cache=True)\n",
    "    def _lookup_str(d, b_list):\n",
    "        out = np.empty(len(b_list), dtype=np.int64)\n",
    "        for i in range(len(b_list)):\n",
    "            k = b_list[i]\n",
    "            out[i] = d.get(k, -1)\n",
    "        return out\n",
    "else:  # No numba\n",
    "\n",
    "    def _build_num(*_a, **_k):\n",
    "        raise RuntimeError(\"Numba not available – cannot use engine='numba'.\")\n",
    "\n",
    "    _lookup_num = _build_str = _lookup_str = _build_num  # alias to raise\n",
    "\n",
    "# ---------------------------------------------------------------------------\n",
    "#  Engine heuristic ----------------------------------------------------------\n",
    "# ---------------------------------------------------------------------------\n",
    "\n",
    "def _pick_engine(a):\n",
    "    n = len(a)\n",
    "    if n < 1_000_000:\n",
    "        return \"python\"\n",
    "    if _HAS_NUMBA:\n",
    "        # try numba even for strings (0.56+)\n",
    "        return \"numba\"\n",
    "    return \"numpy\"\n"
   ]
  },
  {
   "cell_type": "code",
   "execution_count": 29,
   "id": "cb2a4c74",
   "metadata": {},
   "outputs": [
    {
     "name": "stdout",
     "output_type": "stream",
     "text": [
      "[2873   59  348]\n",
      "lookup time: 0.0457160420000946 sec\n"
     ]
    }
   ],
   "source": [
    "import numpy as np, time\n",
    "\n",
    "a = np.random.randint(0, 1000, size=10_000_000, dtype=\"int64\")\n",
    "b = [123, 456, 789]\n",
    "\n",
    "idx = build_index(a, engine=\"numba\")   # ≈ 1.2 s (초기 컴파일 포함)\n",
    "t0 = time.perf_counter()\n",
    "positions = idx.lookup(b)\n",
    "print(positions)                       # array([  -1, 5219,  ... ])\n",
    "print(\"lookup time:\", time.perf_counter() - t0, \"sec\")  # <1 µs"
   ]
  },
  {
   "cell_type": "code",
   "execution_count": 30,
   "id": "ae40cfdc",
   "metadata": {},
   "outputs": [
    {
     "data": {
      "text/plain": [
       "(123, 456, 789)"
      ]
     },
     "execution_count": 30,
     "metadata": {},
     "output_type": "execute_result"
    }
   ],
   "source": [
    "a[2873],a[59], a[348]"
   ]
  },
  {
   "cell_type": "code",
   "execution_count": 37,
   "id": "2d39d4e7",
   "metadata": {},
   "outputs": [
    {
     "name": "stdout",
     "output_type": "stream",
     "text": [
      "178744408 178807423\n",
      "[(178744408, 178752039), (178753123, 178753180), (178758983, 178759172), (178764176, 178764302), (178764526, 178764811), (178766380, 178766612), (178767758, 178767924), (178768013, 178768155), (178768672, 178768933), (178769678, 178769939), (178770059, 178770320), (178770411, 178770675), (178771210, 178771471), (178773108, 178773369), (178773461, 178773725), (178773837, 178774110), (178774206, 178774473), (178774920, 178775202), (178775355, 178777049), (178777148, 178777317), (178777419, 178777584), (178777703, 178777975), (178778873, 178779118), (178779228, 178779462), (178779999, 178780205), (178781120, 178781263), (178782211, 178782427), (178782538, 178782602), (178782805, 178783064), (178783719, 178783785), (178784069, 178784351), (178785619, 178785742), (178785847, 178786141), (178789359, 178789497), (178789977, 178790115), (178790707, 178790845), (178792071, 178792197), (178793403, 178793541), (178794398, 178794551), (178794921, 178795252), (178799486, 178799731), (178799824, 178799910), (178800394, 178800682), (178802137, 178802341), (178804551, 178804655), (178807211, 178807423)]\n"
     ]
    },
    {
     "data": {
      "text/plain": [
       "(['chr2:178744408-178744424+',\n",
       "  'chr2:178744409-178744425+',\n",
       "  'chr2:178744410-178744426+'],\n",
       " ['chr2:178744409-178744425+',\n",
       "  'chr2:178744410-178744426+',\n",
       "  'chr2:178744411-178744427+'])"
      ]
     },
     "execution_count": 37,
     "metadata": {},
     "output_type": "execute_result"
    }
   ],
   "source": [
    "import sys\n",
    "sys.path.append('../')\n",
    "from asopipe.utils.basic import loadBlatOutput\n",
    "from jklib.genome import locus\n",
    "from itertools import chain\n",
    "\n",
    "refFlat_path=\"/Users/dowonkim/Dropbox/data/UCSC/hg38/refFlat/refFlat_200817.txt\"\n",
    "blat = loadBlatOutput(refFlat_path, by='transID')\n",
    "\n",
    "transid=\"NM_133379\" #TTN\n",
    "#transid=\"NM_002415\" #MIF\n",
    "\n",
    "\n",
    "def _get_transInfo(transid):\n",
    "    return [t for t in blat[transid]\n",
    "            if len(t['chrom'].split('_')) == 1][0]\n",
    "\n",
    "def get_data(transid):\n",
    "    transInfo = _get_transInfo(transid=transid)\n",
    "    anti = '+' if transInfo['strand'] == '-' else '-'\n",
    "    chrom = transInfo['chrom']\n",
    "    start = transInfo['txnSta']\n",
    "    end   = transInfo['txnEnd']\n",
    "    return transInfo\n",
    "\n",
    "def _tile_region(transid, tile_length=17):\n",
    "    \n",
    "    transInfo = get_data(transid=transid)\n",
    "    anti = '+' if transInfo['strand'] == '-' else '-'\n",
    "    chrom = transInfo['chrom']\n",
    "    start = transInfo['txnSta']\n",
    "    end   = transInfo['txnEnd']\n",
    "    exonL = transInfo['exnList']\n",
    "    L     = tile_length\n",
    "    print(start, end)\n",
    "    print(exonL)\n",
    "    concatL = [range(s+1,e-L+1) for s,e in exonL if s+1 <= e-L+1]\n",
    "    iterrange = chain(*concatL)\n",
    "    mature_loc_list = []\n",
    "    for i in iterrange:\n",
    "        mature_loc_list.append(f\"{chrom}:{i}-{i+L-1}{anti}\")\n",
    "    \n",
    "    return [f\"{chrom}:{i}-{i+L-1}{anti}\"   # inclusive end = i+L-1\n",
    "        for i in range(start, end-L+1)], mature_loc_list\n",
    "    \n",
    "tile_loc_list, mature_loc_list = _tile_region(transid=transid, tile_length=17)\n",
    "tile_loc_list[:3], mature_loc_list[:3]"
   ]
  },
  {
   "cell_type": "code",
   "execution_count": 38,
   "id": "338d89df",
   "metadata": {},
   "outputs": [
    {
     "name": "stdout",
     "output_type": "stream",
     "text": [
      "[    1     2     3 ... 62996 62997 62998]\n",
      "lookup time: 0.009857957999884093 sec\n"
     ]
    }
   ],
   "source": [
    "import numpy as np, time\n",
    "\n",
    "idx = build_index(tile_loc_list, engine=\"numba\")   # ≈ 1.2 s (초기 컴파일 포함)\n",
    "t0 = time.perf_counter()\n",
    "positions = idx.lookup(mature_loc_list)\n",
    "print(positions)                       # array([  -1, 5219,  ... ])\n",
    "print(\"lookup time:\", time.perf_counter() - t0, \"sec\")  # <1 µs"
   ]
  },
  {
   "cell_type": "code",
   "execution_count": 39,
   "id": "1edc51cb",
   "metadata": {},
   "outputs": [
    {
     "data": {
      "text/plain": [
       "17434"
      ]
     },
     "execution_count": 39,
     "metadata": {},
     "output_type": "execute_result"
    }
   ],
   "source": [
    "len(positions)"
   ]
  },
  {
   "cell_type": "code",
   "execution_count": 41,
   "id": "6bf84df1",
   "metadata": {},
   "outputs": [
    {
     "data": {
      "text/plain": [
       "17434"
      ]
     },
     "execution_count": 41,
     "metadata": {},
     "output_type": "execute_result"
    }
   ],
   "source": [
    "a_arr   = np.asarray(tile_loc_list, dtype=object)\n",
    "idx_arr = np.asarray(positions, dtype=int)\n",
    "\n",
    "mapped = a_arr[idx_arr[idx_arr >= 0]].tolist()\n",
    "len(mapped)"
   ]
  },
  {
   "cell_type": "code",
   "execution_count": null,
   "id": "6391532f",
   "metadata": {},
   "outputs": [],
   "source": []
  }
 ],
 "metadata": {
  "kernelspec": {
   "display_name": "portal",
   "language": "python",
   "name": "python3"
  },
  "language_info": {
   "codemirror_mode": {
    "name": "ipython",
    "version": 3
   },
   "file_extension": ".py",
   "mimetype": "text/x-python",
   "name": "python",
   "nbconvert_exporter": "python",
   "pygments_lexer": "ipython3",
   "version": "3.8.12"
  }
 },
 "nbformat": 4,
 "nbformat_minor": 5
}
