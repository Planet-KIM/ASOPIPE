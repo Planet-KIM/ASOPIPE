{
 "cells": [
  {
   "cell_type": "code",
   "execution_count": null,
   "id": "4723a8d0",
   "metadata": {},
   "outputs": [],
   "source": [
    "import RNA, random, time, multiprocessing as mp\n",
    "\n",
    "def bench_one(seq):\n",
    "    return RNA.co_pf_fold(seq)[0]  # 결과 버리기\n",
    "\n",
    "def bench_batch(N=100_000, l=17, nproc=8):\n",
    "    randseq = lambda n: ''.join(random.choice(\"ACGU\") for _ in range(n))\n",
    "    dimer   = lambda: randseq(l) + '&' + randseq(l)  # cut_point 자동 처리\n",
    "    seqs    = [dimer() for _ in range(N)]\n",
    "    t0 = time.perf_counter()\n",
    "    with mp.Pool(nproc) as pool:\n",
    "        pool.map(bench_one, seqs)\n",
    "    return time.perf_counter() - t0\n",
    "\n",
    "if __name__ == \"__main__\":\n",
    "    mp.set_start_method(\"spawn\", force=True)   # macOS/Linux 안전\n",
    "    print(bench_batch(10_000, nproc=4), \"sec\")  # 작은 규모로 사전 테스트"
   ]
  },
  {
   "cell_type": "code",
   "execution_count": null,
   "id": "31566f00",
   "metadata": {},
   "outputs": [],
   "source": []
  }
 ],
 "metadata": {
  "kernelspec": {
   "display_name": "portal",
   "language": "python",
   "name": "python3"
  },
  "language_info": {
   "codemirror_mode": {
    "name": "ipython",
    "version": 3
   },
   "file_extension": ".py",
   "mimetype": "text/x-python",
   "name": "python",
   "nbconvert_exporter": "python",
   "pygments_lexer": "ipython3",
   "version": "3.8.12"
  }
 },
 "nbformat": 4,
 "nbformat_minor": 5
}
