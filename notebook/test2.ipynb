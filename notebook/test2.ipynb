{
 "cells": [
  {
   "cell_type": "code",
   "execution_count": null,
   "id": "4df4f4fd",
   "metadata": {},
   "outputs": [
    {
     "name": "stdout",
     "output_type": "stream",
     "text": [
      "[ASOdesign] transid=NM_133379\n",
      "#tiles=62999, assemblies=['mm39', 'mm10'], tile_length=17, wobble=0\n",
      "Assembly: [mm39] prcessing...\n"
     ]
    }
   ],
   "source": [
    "import os\n",
    "import sys\n",
    "sys.path.append(\"../\")  # 상위 디렉토리 추가\n",
    "from asopipe.main import run_ASOdesign\n",
    "\n",
    "# ────────────────────────────\n",
    "# ──────────────────────────────────────────────────────────────\n",
    "# 3) 실행 예시  ────────────────────────────────────────────────\n",
    "if __name__ == \"__main__\":\n",
    "\n",
    "    transid =\"NM_133379\"#TTN\n",
    "    #transid=\"NM_002415\" #MIF\n",
    "    if not os.path.isdir(f\"./{transid}\"):\n",
    "        os.makedirs(f\"{transid}\")\n",
    "    result  = run_ASOdesign(transid=transid,\n",
    "                     query_assembly=[\"mm39\",\"mm10\"],\n",
    "                     ref_assembly=\"hg38\",\n",
    "                     k_min=17, k_max=18,\n",
    "                     chunk_division=5, max_workers=1, wobble=0, to_df=False, gapmer_filtered=True,\n",
    "                     to_csv=True, output_path=f\"./{transid}\")\n"
   ]
  },
  {
   "cell_type": "code",
   "execution_count": null,
   "id": "e3cfbd42",
   "metadata": {},
   "outputs": [
    {
     "data": {
      "text/html": [
       "<div><style>\n",
       ".dataframe > thead > tr,\n",
       ".dataframe > tbody > tr {\n",
       "  text-align: right;\n",
       "  white-space: pre-wrap;\n",
       "}\n",
       "</style>\n",
       "<small>shape: (214, 23)</small><table border=\"1\" class=\"dataframe\"><thead><tr><th>Type</th><th>Gene</th><th>TranscriptID</th><th>Locus</th><th>Sequence</th><th>Length</th><th>RegionType</th><th>CommonSNP</th><th>Gquad</th><th>CpG</th><th>GC_Content</th><th>Homo_Dimer</th><th>Monomer</th><th>maf_seq_mm39</th><th>coverage_mm39</th><th>wobble_mm39</th><th>maf_seq_mm10</th><th>coverage_mm10</th><th>wobble_mm10</th><th>gapmer_filtered_mm39</th><th>gapmer_coords_mm39</th><th>gapmer_filtered_mm10</th><th>gapmer_coords_mm10</th></tr><tr><td>str</td><td>str</td><td>str</td><td>str</td><td>str</td><td>i64</td><td>str</td><td>bool</td><td>bool</td><td>i64</td><td>f64</td><td>f64</td><td>f64</td><td>str</td><td>i64</td><td>str</td><td>str</td><td>null</td><td>str</td><td>bool</td><td>str</td><td>bool</td><td>str</td></tr></thead><tbody><tr><td>&quot;e&quot;</td><td>&quot;MIF&quot;</td><td>&quot;NM_002415&quot;</td><td>&quot;chr22:23894389-23894406-&quot;</td><td>&quot;GTGCCTGACTTCTCGGAC&quot;</td><td>18</td><td>&quot;(&#x27;MIF&#x27;, &#x27;NM_002415&#x27;, &#x27;antisens…</td><td>true</td><td>false</td><td>1</td><td>0.611111</td><td>-7.036719</td><td>-2.23578</td><td>&quot;GTCCGAGAAGTCAGGCAC:ACT---GAGCT…</td><td>11</td><td>&quot;False&quot;</td><td>&quot;None:None&quot;</td><td>null</td><td>&quot;{&#x27;GU_humanC&#x27;: [], &#x27;GU_otherC&#x27;:…</td><td>true</td><td>&quot;4_10_4&quot;</td><td>false</td><td>&quot;4_10_4&quot;</td></tr><tr><td>&quot;e&quot;</td><td>&quot;MIF&quot;</td><td>&quot;NM_002415&quot;</td><td>&quot;chr22:23894390-23894407-&quot;</td><td>&quot;CGTGCCTGACTTCTCGGA&quot;</td><td>18</td><td>&quot;(&#x27;MIF&#x27;, &#x27;NM_002415&#x27;, &#x27;antisens…</td><td>true</td><td>false</td><td>2</td><td>0.611111</td><td>-7.182804</td><td>-2.210783</td><td>&quot;TCCGAGAAGTCAGGCACG:CT---GAGCTG…</td><td>10</td><td>&quot;False&quot;</td><td>&quot;None:None&quot;</td><td>null</td><td>&quot;{&#x27;GU_humanC&#x27;: [], &#x27;GU_otherC&#x27;:…</td><td>true</td><td>&quot;4_10_4&quot;</td><td>false</td><td>&quot;4_10_4&quot;</td></tr><tr><td>&quot;e&quot;</td><td>&quot;MIF&quot;</td><td>&quot;NM_002415&quot;</td><td>&quot;chr22:23894391-23894408-&quot;</td><td>&quot;ACGTGCCTGACTTCTCGG&quot;</td><td>18</td><td>&quot;(&#x27;MIF&#x27;, &#x27;NM_002415&#x27;, &#x27;antisens…</td><td>true</td><td>false</td><td>2</td><td>0.611111</td><td>-5.480025</td><td>-1.18922</td><td>&quot;CCGAGAAGTCAGGCACGT:T---GAGCTGG…</td><td>9</td><td>&quot;False&quot;</td><td>&quot;None:None&quot;</td><td>null</td><td>&quot;{&#x27;GU_humanC&#x27;: [], &#x27;GU_otherC&#x27;:…</td><td>true</td><td>&quot;4_10_4&quot;</td><td>false</td><td>&quot;4_10_4&quot;</td></tr><tr><td>&quot;e&quot;</td><td>&quot;MIF&quot;</td><td>&quot;NM_002415&quot;</td><td>&quot;chr22:23894392-23894409-&quot;</td><td>&quot;TACGTGCCTGACTTCTCG&quot;</td><td>18</td><td>&quot;(&#x27;MIF&#x27;, &#x27;NM_002415&#x27;, &#x27;antisens…</td><td>true</td><td>false</td><td>2</td><td>0.555556</td><td>-4.874753</td><td>-0.292268</td><td>&quot;CGAGAAGTCAGGCACGTA:---GAGCTGGG…</td><td>8</td><td>&quot;False&quot;</td><td>&quot;None:None&quot;</td><td>null</td><td>&quot;{&#x27;GU_humanC&#x27;: [], &#x27;GU_otherC&#x27;:…</td><td>true</td><td>&quot;4_10_4&quot;</td><td>false</td><td>&quot;4_10_4&quot;</td></tr><tr><td>&quot;e&quot;</td><td>&quot;MIF&quot;</td><td>&quot;NM_002415&quot;</td><td>&quot;chr22:23894393-23894410-&quot;</td><td>&quot;CTACGTGCCTGACTTCTC&quot;</td><td>18</td><td>&quot;(&#x27;MIF&#x27;, &#x27;NM_002415&#x27;, &#x27;antisens…</td><td>true</td><td>false</td><td>1</td><td>0.555556</td><td>-5.003819</td><td>-0.219243</td><td>&quot;GAGAAGTCAGGCACGTAG:--GAGCTGGGT…</td><td>7</td><td>&quot;False&quot;</td><td>&quot;None:None&quot;</td><td>null</td><td>&quot;{&#x27;GU_humanC&#x27;: [], &#x27;GU_otherC&#x27;:…</td><td>true</td><td>&quot;4_10_4&quot;</td><td>false</td><td>&quot;4_10_4&quot;</td></tr><tr><td>&hellip;</td><td>&hellip;</td><td>&hellip;</td><td>&hellip;</td><td>&hellip;</td><td>&hellip;</td><td>&hellip;</td><td>&hellip;</td><td>&hellip;</td><td>&hellip;</td><td>&hellip;</td><td>&hellip;</td><td>&hellip;</td><td>&hellip;</td><td>&hellip;</td><td>&hellip;</td><td>&hellip;</td><td>&hellip;</td><td>&hellip;</td><td>&hellip;</td><td>&hellip;</td><td>&hellip;</td><td>&hellip;</td></tr><tr><td>&quot;e&quot;</td><td>&quot;MIF&quot;</td><td>&quot;NM_002415&quot;</td><td>&quot;chr22:23895193-23895210-&quot;</td><td>&quot;GTTTATTTCTCCCCACCA&quot;</td><td>18</td><td>&quot;(&#x27;MIF&#x27;, &#x27;NM_002415&#x27;, &#x27;antisens…</td><td>false</td><td>false</td><td>0</td><td>0.444444</td><td>-0.162225</td><td>-0.005593</td><td>&quot;TGGTGGGGAGAAATAAAC:CAGCCGGGAGA…</td><td>5</td><td>&quot;False&quot;</td><td>&quot;None:None&quot;</td><td>null</td><td>&quot;{&#x27;GU_humanC&#x27;: [], &#x27;GU_otherC&#x27;:…</td><td>true</td><td>&quot;4_10_4&quot;</td><td>false</td><td>&quot;4_10_4&quot;</td></tr><tr><td>&quot;e&quot;</td><td>&quot;MIF&quot;</td><td>&quot;NM_002415&quot;</td><td>&quot;chr22:23895194-23895211-&quot;</td><td>&quot;CGTTTATTTCTCCCCACC&quot;</td><td>18</td><td>&quot;(&#x27;MIF&#x27;, &#x27;NM_002415&#x27;, &#x27;antisens…</td><td>false</td><td>false</td><td>1</td><td>0.5</td><td>-0.331961</td><td>-0.003318</td><td>&quot;GGTGGGGAGAAATAAACG:AGCCGGGAGAA…</td><td>4</td><td>&quot;False&quot;</td><td>&quot;None:None&quot;</td><td>null</td><td>&quot;{&#x27;GU_humanC&#x27;: [], &#x27;GU_otherC&#x27;:…</td><td>true</td><td>&quot;4_10_4&quot;</td><td>false</td><td>&quot;4_10_4&quot;</td></tr><tr><td>&quot;e&quot;</td><td>&quot;MIF&quot;</td><td>&quot;NM_002415&quot;</td><td>&quot;chr22:23895195-23895212-&quot;</td><td>&quot;CCGTTTATTTCTCCCCAC&quot;</td><td>18</td><td>&quot;(&#x27;MIF&#x27;, &#x27;NM_002415&#x27;, &#x27;antisens…</td><td>false</td><td>false</td><td>1</td><td>0.5</td><td>-0.443837</td><td>-0.00099</td><td>&quot;GTGGGGAGAAATAAACGG:GCCGGGAGAAA…</td><td>3</td><td>&quot;False&quot;</td><td>&quot;None:None&quot;</td><td>null</td><td>&quot;{&#x27;GU_humanC&#x27;: [], &#x27;GU_otherC&#x27;:…</td><td>true</td><td>&quot;4_10_4&quot;</td><td>false</td><td>&quot;4_10_4&quot;</td></tr><tr><td>&quot;e&quot;</td><td>&quot;MIF&quot;</td><td>&quot;NM_002415&quot;</td><td>&quot;chr22:23895196-23895213-&quot;</td><td>&quot;ACCGTTTATTTCTCCCCA&quot;</td><td>18</td><td>&quot;(&#x27;MIF&#x27;, &#x27;NM_002415&#x27;, &#x27;antisens…</td><td>false</td><td>false</td><td>1</td><td>0.444444</td><td>-0.528762</td><td>-0.000251</td><td>&quot;TGGGGAGAAATAAACGGT:CCGGGAGAAAT…</td><td>3</td><td>&quot;False&quot;</td><td>&quot;None:None&quot;</td><td>null</td><td>&quot;{&#x27;GU_humanC&#x27;: [], &#x27;GU_otherC&#x27;:…</td><td>true</td><td>&quot;4_10_4&quot;</td><td>false</td><td>&quot;4_10_4&quot;</td></tr><tr><td>&quot;e&quot;</td><td>&quot;MIF&quot;</td><td>&quot;NM_002415&quot;</td><td>&quot;chr22:23895197-23895214-&quot;</td><td>&quot;AACCGTTTATTTCTCCCC&quot;</td><td>18</td><td>&quot;(&#x27;MIF&#x27;, &#x27;NM_002415&#x27;, &#x27;antisens…</td><td>false</td><td>false</td><td>1</td><td>0.444444</td><td>-1.357174</td><td>-0.00194</td><td>&quot;GGGGAGAAATAAACGGTT:CGGGAGAAATA…</td><td>2</td><td>&quot;False&quot;</td><td>&quot;None:None&quot;</td><td>null</td><td>&quot;{&#x27;GU_humanC&#x27;: [], &#x27;GU_otherC&#x27;:…</td><td>true</td><td>&quot;4_10_4&quot;</td><td>false</td><td>&quot;4_10_4&quot;</td></tr></tbody></table></div>"
      ],
      "text/plain": [
       "shape: (214, 23)\n",
       "┌──────┬──────┬─────────────┬─────────────┬───┬─────────────┬────────────┬────────────┬────────────┐\n",
       "│ Type ┆ Gene ┆ TranscriptI ┆ Locus       ┆ … ┆ gapmer_filt ┆ gapmer_coo ┆ gapmer_fil ┆ gapmer_coo │\n",
       "│ ---  ┆ ---  ┆ D           ┆ ---         ┆   ┆ ered_mm39   ┆ rds_mm39   ┆ tered_mm10 ┆ rds_mm10   │\n",
       "│ str  ┆ str  ┆ ---         ┆ str         ┆   ┆ ---         ┆ ---        ┆ ---        ┆ ---        │\n",
       "│      ┆      ┆ str         ┆             ┆   ┆ bool        ┆ str        ┆ bool       ┆ str        │\n",
       "╞══════╪══════╪═════════════╪═════════════╪═══╪═════════════╪════════════╪════════════╪════════════╡\n",
       "│ e    ┆ MIF  ┆ NM_002415   ┆ chr22:23894 ┆ … ┆ true        ┆ 4_10_4     ┆ false      ┆ 4_10_4     │\n",
       "│      ┆      ┆             ┆ 389-2389440 ┆   ┆             ┆            ┆            ┆            │\n",
       "│      ┆      ┆             ┆ 6-          ┆   ┆             ┆            ┆            ┆            │\n",
       "│ e    ┆ MIF  ┆ NM_002415   ┆ chr22:23894 ┆ … ┆ true        ┆ 4_10_4     ┆ false      ┆ 4_10_4     │\n",
       "│      ┆      ┆             ┆ 390-2389440 ┆   ┆             ┆            ┆            ┆            │\n",
       "│      ┆      ┆             ┆ 7-          ┆   ┆             ┆            ┆            ┆            │\n",
       "│ e    ┆ MIF  ┆ NM_002415   ┆ chr22:23894 ┆ … ┆ true        ┆ 4_10_4     ┆ false      ┆ 4_10_4     │\n",
       "│      ┆      ┆             ┆ 391-2389440 ┆   ┆             ┆            ┆            ┆            │\n",
       "│      ┆      ┆             ┆ 8-          ┆   ┆             ┆            ┆            ┆            │\n",
       "│ e    ┆ MIF  ┆ NM_002415   ┆ chr22:23894 ┆ … ┆ true        ┆ 4_10_4     ┆ false      ┆ 4_10_4     │\n",
       "│      ┆      ┆             ┆ 392-2389440 ┆   ┆             ┆            ┆            ┆            │\n",
       "│      ┆      ┆             ┆ 9-          ┆   ┆             ┆            ┆            ┆            │\n",
       "│ e    ┆ MIF  ┆ NM_002415   ┆ chr22:23894 ┆ … ┆ true        ┆ 4_10_4     ┆ false      ┆ 4_10_4     │\n",
       "│      ┆      ┆             ┆ 393-2389441 ┆   ┆             ┆            ┆            ┆            │\n",
       "│      ┆      ┆             ┆ 0-          ┆   ┆             ┆            ┆            ┆            │\n",
       "│ …    ┆ …    ┆ …           ┆ …           ┆ … ┆ …           ┆ …          ┆ …          ┆ …          │\n",
       "│ e    ┆ MIF  ┆ NM_002415   ┆ chr22:23895 ┆ … ┆ true        ┆ 4_10_4     ┆ false      ┆ 4_10_4     │\n",
       "│      ┆      ┆             ┆ 193-2389521 ┆   ┆             ┆            ┆            ┆            │\n",
       "│      ┆      ┆             ┆ 0-          ┆   ┆             ┆            ┆            ┆            │\n",
       "│ e    ┆ MIF  ┆ NM_002415   ┆ chr22:23895 ┆ … ┆ true        ┆ 4_10_4     ┆ false      ┆ 4_10_4     │\n",
       "│      ┆      ┆             ┆ 194-2389521 ┆   ┆             ┆            ┆            ┆            │\n",
       "│      ┆      ┆             ┆ 1-          ┆   ┆             ┆            ┆            ┆            │\n",
       "│ e    ┆ MIF  ┆ NM_002415   ┆ chr22:23895 ┆ … ┆ true        ┆ 4_10_4     ┆ false      ┆ 4_10_4     │\n",
       "│      ┆      ┆             ┆ 195-2389521 ┆   ┆             ┆            ┆            ┆            │\n",
       "│      ┆      ┆             ┆ 2-          ┆   ┆             ┆            ┆            ┆            │\n",
       "│ e    ┆ MIF  ┆ NM_002415   ┆ chr22:23895 ┆ … ┆ true        ┆ 4_10_4     ┆ false      ┆ 4_10_4     │\n",
       "│      ┆      ┆             ┆ 196-2389521 ┆   ┆             ┆            ┆            ┆            │\n",
       "│      ┆      ┆             ┆ 3-          ┆   ┆             ┆            ┆            ┆            │\n",
       "│ e    ┆ MIF  ┆ NM_002415   ┆ chr22:23895 ┆ … ┆ true        ┆ 4_10_4     ┆ false      ┆ 4_10_4     │\n",
       "│      ┆      ┆             ┆ 197-2389521 ┆   ┆             ┆            ┆            ┆            │\n",
       "│      ┆      ┆             ┆ 4-          ┆   ┆             ┆            ┆            ┆            │\n",
       "└──────┴──────┴─────────────┴─────────────┴───┴─────────────┴────────────┴────────────┴────────────┘"
      ]
     },
     "execution_count": 6,
     "metadata": {},
     "output_type": "execute_result"
    }
   ],
   "source": [
    "import pandas as pd\n",
    "import polars as pl\n",
    "pl.DataFrame(result)"
   ]
  },
  {
   "cell_type": "code",
   "execution_count": null,
   "id": "51b01649",
   "metadata": {},
   "outputs": [],
   "source": []
  }
 ],
 "metadata": {
  "kernelspec": {
   "display_name": "portal",
   "language": "python",
   "name": "python3"
  },
  "language_info": {
   "codemirror_mode": {
    "name": "ipython",
    "version": 3
   },
   "file_extension": ".py",
   "mimetype": "text/x-python",
   "name": "python",
   "nbconvert_exporter": "python",
   "pygments_lexer": "ipython3",
   "version": "3.8.12"
  }
 },
 "nbformat": 4,
 "nbformat_minor": 5
}
