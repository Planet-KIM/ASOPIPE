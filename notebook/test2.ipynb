{
 "cells": [
  {
   "cell_type": "code",
   "execution_count": 1,
   "id": "4df4f4fd",
   "metadata": {},
   "outputs": [
    {
     "name": "stdout",
     "output_type": "stream",
     "text": [
      "[ASOdesign] transid=NM_002415\n",
      "#tiles=825, assemblies=['mm39', 'mm10'], tile_length=17, wobble=0\n",
      "[mm39]\n",
      "[mm10]\n",
      "#gapmer filter start: target_assembly: ['mm39', 'mm10']\n",
      "[ASOdesign] transid=NM_002415\n",
      "#tiles=824, assemblies=['mm39', 'mm10'], tile_length=18, wobble=0\n",
      "[mm39]\n",
      "[mm10]\n",
      "#gapmer filter start: target_assembly: ['mm39', 'mm10']\n",
      "Elapsed: 28.984875679016113 sec\n"
     ]
    }
   ],
   "source": [
    "import os\n",
    "import sys\n",
    "sys.path.append(\"../\")  # 상위 디렉토리 추가\n",
    "from asopipe.main import run_ASOdesign\n",
    "\n",
    "# ────────────────────────────\n",
    "# ──────────────────────────────────────────────────────────────\n",
    "# 3) 실행 예시  ────────────────────────────────────────────────\n",
    "if __name__ == \"__main__\":\n",
    "\n",
    "    #transid =\"NM_133379\"#TTN\n",
    "    transid=\"NM_002415\" #MIF\n",
    "    if not os.path.isdir(f\"./{transid}\"):\n",
    "        os.makedirs(f\"{transid}\")\n",
    "    result  = run_ASOdesign(transid=transid,\n",
    "                     query_assembly=[\"mm39\",\"mm10\"],\n",
    "                     ref_assembly=\"hg38\",\n",
    "                     k_min=17, k_max=18,\n",
    "                     chunk_division=5, max_workers=1, wobble=0, to_df=False, gapmer_filtered=True,\n",
    "                     to_csv=True, output_path=f\"./{transid}\")\n"
   ]
  },
  {
   "cell_type": "code",
   "execution_count": null,
   "id": "e3cfbd42",
   "metadata": {},
   "outputs": [
    {
     "name": "stdout",
     "output_type": "stream",
     "text": [
      "17\n",
      "18\n"
     ]
    }
   ],
   "source": []
  },
  {
   "cell_type": "code",
   "execution_count": null,
   "id": "51b01649",
   "metadata": {},
   "outputs": [],
   "source": []
  }
 ],
 "metadata": {
  "kernelspec": {
   "display_name": "portal",
   "language": "python",
   "name": "python3"
  },
  "language_info": {
   "codemirror_mode": {
    "name": "ipython",
    "version": 3
   },
   "file_extension": ".py",
   "mimetype": "text/x-python",
   "name": "python",
   "nbconvert_exporter": "python",
   "pygments_lexer": "ipython3",
   "version": "3.8.12"
  }
 },
 "nbformat": 4,
 "nbformat_minor": 5
}
