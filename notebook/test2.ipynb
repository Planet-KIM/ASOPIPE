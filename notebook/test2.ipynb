{
 "cells": [
  {
   "cell_type": "code",
   "execution_count": null,
   "id": "4df4f4fd",
   "metadata": {},
   "outputs": [
    {
     "name": "stdout",
     "output_type": "stream",
     "text": [
      "[ASOdesign] transid=NM_133379\n",
      "#tiles=62999, assemblies=['mm39', 'mm10'], tile_length=17, wobble=0\n",
      "Assembly: [mm39] prcessing...\n",
      "Assembly: [mm10] prcessing...\n",
      "#gapmer filter start: target_assembly: ['mm39', 'mm10']\n",
      "[ASOdesign] transid=NM_133379\n",
      "#tiles=62998, assemblies=['mm39', 'mm10'], tile_length=18, wobble=0\n",
      "Assembly: [mm39] prcessing...\n",
      "Assembly: [mm10] prcessing...\n",
      "#gapmer filter start: target_assembly: ['mm39', 'mm10']\n",
      "Elapsed: 188.72183990478516 sec\n"
     ]
    }
   ],
   "source": [
    "import os\n",
    "import sys\n",
    "sys.path.append(\"../\")  # 상위 디렉토리 추가\n",
    "from asopipe.main import run_ASOdesign\n",
    "\n",
    "# ────────────────────────────\n",
    "# ──────────────────────────────────────────────────────────────\n",
    "# 3) 실행 예시  ────────────────────────────────────────────────\n",
    "if __name__ == \"__main__\":\n",
    "\n",
    "    transid =\"NM_133379\"#TTN\n",
    "    #transid=\"NM_002415\" #MIF\n",
    "    if not os.path.isdir(f\"./{transid}\"):\n",
    "        os.makedirs(f\"{transid}\")\n",
    "    result  = run_ASOdesign(transid=transid,\n",
    "                     query_assembly=[\"mm39\",\"mm10\"],\n",
    "                     ref_assembly=\"hg38\",\n",
    "                     k_min=17, k_max=18,\n",
    "                     chunk_division=5, max_workers=1, wobble=0, to_df=False, gapmer_filtered=True,\n",
    "                     to_csv=True, output_path=f\"./{transid}\")\n"
   ]
  },
  {
   "cell_type": "code",
   "execution_count": 9,
   "id": "e3cfbd42",
   "metadata": {},
   "outputs": [
    {
     "data": {
      "text/html": [
       "<div><style>\n",
       ".dataframe > thead > tr,\n",
       ".dataframe > tbody > tr {\n",
       "  text-align: right;\n",
       "  white-space: pre-wrap;\n",
       "}\n",
       "</style>\n",
       "<small>shape: (55_624, 23)</small><table border=\"1\" class=\"dataframe\"><thead><tr><th>Type</th><th>Gene</th><th>TranscriptID</th><th>Locus</th><th>Sequence</th><th>Length</th><th>RegionType</th><th>CommonSNP</th><th>Gquad</th><th>CpG</th><th>GC_Content</th><th>Homo_Dimer</th><th>Monomer</th><th>maf_seq_mm39</th><th>coverage_mm39</th><th>wobble_mm39</th><th>maf_seq_mm10</th><th>coverage_mm10</th><th>wobble_mm10</th><th>gapmer_filtered_mm39</th><th>gapmer_coords_mm39</th><th>gapmer_filtered_mm10</th><th>gapmer_coords_mm10</th></tr><tr><td>str</td><td>str</td><td>str</td><td>str</td><td>str</td><td>i64</td><td>str</td><td>bool</td><td>bool</td><td>i64</td><td>f64</td><td>f64</td><td>f64</td><td>str</td><td>i64</td><td>str</td><td>str</td><td>null</td><td>str</td><td>bool</td><td>str</td><td>bool</td><td>str</td></tr></thead><tbody><tr><td>&quot;e&quot;</td><td>&quot;TTN&quot;</td><td>&quot;NM_133379&quot;</td><td>&quot;chr2:178744416-178744433+&quot;</td><td>&quot;TGTCGAGTCTTATATGAG&quot;</td><td>18</td><td>&quot;(&#x27;TTN&#x27;, &#x27;NM_133379&#x27;, &#x27;antisens…</td><td>false</td><td>false</td><td>1</td><td>0.388889</td><td>-8.068638</td><td>-0.291248</td><td>&quot;TGTCGAGTCTTATATGAG:TATTATGTCTT…</td><td>6</td><td>&quot;False&quot;</td><td>&quot;None:None&quot;</td><td>null</td><td>&quot;{&#x27;GU_humanC&#x27;: [], &#x27;GU_otherC&#x27;:…</td><td>true</td><td>&quot;4_10_4&quot;</td><td>false</td><td>&quot;4_10_4&quot;</td></tr><tr><td>&quot;e&quot;</td><td>&quot;TTN&quot;</td><td>&quot;NM_133379&quot;</td><td>&quot;chr2:178744417-178744434+&quot;</td><td>&quot;GTCGAGTCTTATATGAGA&quot;</td><td>18</td><td>&quot;(&#x27;TTN&#x27;, &#x27;NM_133379&#x27;, &#x27;antisens…</td><td>false</td><td>false</td><td>1</td><td>0.388889</td><td>-12.375956</td><td>-0.834578</td><td>&quot;GTCGAGTCTTATATGAGA:ATTATGTCTTA…</td><td>6</td><td>&quot;False&quot;</td><td>&quot;None:None&quot;</td><td>null</td><td>&quot;{&#x27;GU_humanC&#x27;: [], &#x27;GU_otherC&#x27;:…</td><td>true</td><td>&quot;4_10_4&quot;</td><td>false</td><td>&quot;4_10_4&quot;</td></tr><tr><td>&quot;e&quot;</td><td>&quot;TTN&quot;</td><td>&quot;NM_133379&quot;</td><td>&quot;chr2:178744418-178744435+&quot;</td><td>&quot;TCGAGTCTTATATGAGAA&quot;</td><td>18</td><td>&quot;(&#x27;TTN&#x27;, &#x27;NM_133379&#x27;, &#x27;antisens…</td><td>false</td><td>false</td><td>1</td><td>0.333333</td><td>-13.344335</td><td>-1.167338</td><td>&quot;TCGAGTCTTATATGAGAA:TTATGTCTTAT…</td><td>5</td><td>&quot;False&quot;</td><td>&quot;None:None&quot;</td><td>null</td><td>&quot;{&#x27;GU_humanC&#x27;: [], &#x27;GU_otherC&#x27;:…</td><td>true</td><td>&quot;4_10_4&quot;</td><td>false</td><td>&quot;4_10_4&quot;</td></tr><tr><td>&quot;e&quot;</td><td>&quot;TTN&quot;</td><td>&quot;NM_133379&quot;</td><td>&quot;chr2:178744419-178744436+&quot;</td><td>&quot;CGAGTCTTATATGAGAAG&quot;</td><td>18</td><td>&quot;(&#x27;TTN&#x27;, &#x27;NM_133379&#x27;, &#x27;antisens…</td><td>false</td><td>false</td><td>1</td><td>0.388889</td><td>-13.343836</td><td>-1.13734</td><td>&quot;CGAGTCTTATATGAGAAG:TATGTCTTATA…</td><td>5</td><td>&quot;False&quot;</td><td>&quot;None:None&quot;</td><td>null</td><td>&quot;{&#x27;GU_humanC&#x27;: [], &#x27;GU_otherC&#x27;:…</td><td>true</td><td>&quot;4_10_4&quot;</td><td>false</td><td>&quot;4_10_4&quot;</td></tr><tr><td>&quot;e&quot;</td><td>&quot;TTN&quot;</td><td>&quot;NM_133379&quot;</td><td>&quot;chr2:178744420-178744437+&quot;</td><td>&quot;GAGTCTTATATGAGAAGA&quot;</td><td>18</td><td>&quot;(&#x27;TTN&#x27;, &#x27;NM_133379&#x27;, &#x27;antisens…</td><td>false</td><td>false</td><td>0</td><td>0.333333</td><td>-13.344025</td><td>-1.208156</td><td>&quot;GAGTCTTATATGAGAAGA:ATGTCTTATAT…</td><td>5</td><td>&quot;False&quot;</td><td>&quot;None:None&quot;</td><td>null</td><td>&quot;{&#x27;GU_humanC&#x27;: [], &#x27;GU_otherC&#x27;:…</td><td>true</td><td>&quot;4_10_4&quot;</td><td>false</td><td>&quot;4_10_4&quot;</td></tr><tr><td>&hellip;</td><td>&hellip;</td><td>&hellip;</td><td>&hellip;</td><td>&hellip;</td><td>&hellip;</td><td>&hellip;</td><td>&hellip;</td><td>&hellip;</td><td>&hellip;</td><td>&hellip;</td><td>&hellip;</td><td>&hellip;</td><td>&hellip;</td><td>&hellip;</td><td>&hellip;</td><td>&hellip;</td><td>&hellip;</td><td>&hellip;</td><td>&hellip;</td><td>&hellip;</td><td>&hellip;</td><td>&hellip;</td></tr><tr><td>&quot;e&quot;</td><td>&quot;TTN&quot;</td><td>&quot;NM_133379&quot;</td><td>&quot;chr2:178807398-178807415+&quot;</td><td>&quot;GCGAGGCTGGGAATGCAC&quot;</td><td>18</td><td>&quot;(&#x27;TTN&#x27;, &#x27;NM_133379&#x27;, &#x27;antisens…</td><td>false</td><td>false</td><td>1</td><td>0.666667</td><td>-9.268889</td><td>-1.256932</td><td>&quot;GCGAGGCTGGGAATGCAC:GCGAGG-TGGG…</td><td>2</td><td>&quot;False&quot;</td><td>&quot;None:None&quot;</td><td>null</td><td>&quot;{&#x27;GU_humanC&#x27;: [], &#x27;GU_otherC&#x27;:…</td><td>true</td><td>&quot;4_10_4&quot;</td><td>false</td><td>&quot;4_10_4&quot;</td></tr><tr><td>&quot;e&quot;</td><td>&quot;TTN&quot;</td><td>&quot;NM_133379&quot;</td><td>&quot;chr2:178807399-178807416+&quot;</td><td>&quot;CGAGGCTGGGAATGCACG&quot;</td><td>18</td><td>&quot;(&#x27;TTN&#x27;, &#x27;NM_133379&#x27;, &#x27;antisens…</td><td>false</td><td>false</td><td>2</td><td>0.666667</td><td>-4.872538</td><td>-1.442773</td><td>&quot;CGAGGCTGGGAATGCACG:CGAGG-TGGGA…</td><td>2</td><td>&quot;False&quot;</td><td>&quot;None:None&quot;</td><td>null</td><td>&quot;{&#x27;GU_humanC&#x27;: [], &#x27;GU_otherC&#x27;:…</td><td>true</td><td>&quot;4_10_4&quot;</td><td>false</td><td>&quot;4_10_4&quot;</td></tr><tr><td>&quot;e&quot;</td><td>&quot;TTN&quot;</td><td>&quot;NM_133379&quot;</td><td>&quot;chr2:178807400-178807417+&quot;</td><td>&quot;GAGGCTGGGAATGCACGA&quot;</td><td>18</td><td>&quot;(&#x27;TTN&#x27;, &#x27;NM_133379&#x27;, &#x27;antisens…</td><td>false</td><td>false</td><td>1</td><td>0.611111</td><td>-4.538899</td><td>-1.094494</td><td>&quot;GAGGCTGGGAATGCACGA:GAGG-TGGGAA…</td><td>2</td><td>&quot;False&quot;</td><td>&quot;None:None&quot;</td><td>null</td><td>&quot;{&#x27;GU_humanC&#x27;: [], &#x27;GU_otherC&#x27;:…</td><td>true</td><td>&quot;4_10_4&quot;</td><td>false</td><td>&quot;4_10_4&quot;</td></tr><tr><td>&quot;e&quot;</td><td>&quot;TTN&quot;</td><td>&quot;NM_133379&quot;</td><td>&quot;chr2:178807401-178807418+&quot;</td><td>&quot;AGGCTGGGAATGCACGAC&quot;</td><td>18</td><td>&quot;(&#x27;TTN&#x27;, &#x27;NM_133379&#x27;, &#x27;antisens…</td><td>false</td><td>false</td><td>1</td><td>0.611111</td><td>-4.440665</td><td>-1.094383</td><td>&quot;AGGCTGGGAATGCACGAC:AGG-TGGGAAT…</td><td>2</td><td>&quot;False&quot;</td><td>&quot;None:None&quot;</td><td>null</td><td>&quot;{&#x27;GU_humanC&#x27;: [], &#x27;GU_otherC&#x27;:…</td><td>true</td><td>&quot;4_10_4&quot;</td><td>false</td><td>&quot;4_10_4&quot;</td></tr><tr><td>&quot;e&quot;</td><td>&quot;TTN&quot;</td><td>&quot;NM_133379&quot;</td><td>&quot;chr2:178807402-178807419+&quot;</td><td>&quot;GGCTGGGAATGCACGACT&quot;</td><td>18</td><td>&quot;(&#x27;TTN&#x27;, &#x27;NM_133379&#x27;, &#x27;antisens…</td><td>false</td><td>false</td><td>1</td><td>0.611111</td><td>-4.933975</td><td>-1.380091</td><td>&quot;GGCTGGGAATGCACGACT:GG-TGGGAATG…</td><td>2</td><td>&quot;False&quot;</td><td>&quot;None:None&quot;</td><td>null</td><td>&quot;{&#x27;GU_humanC&#x27;: [], &#x27;GU_otherC&#x27;:…</td><td>true</td><td>&quot;4_10_4&quot;</td><td>false</td><td>&quot;4_10_4&quot;</td></tr></tbody></table></div>"
      ],
      "text/plain": [
       "shape: (55_624, 23)\n",
       "┌──────┬──────┬─────────────┬─────────────┬───┬─────────────┬────────────┬────────────┬────────────┐\n",
       "│ Type ┆ Gene ┆ TranscriptI ┆ Locus       ┆ … ┆ gapmer_filt ┆ gapmer_coo ┆ gapmer_fil ┆ gapmer_coo │\n",
       "│ ---  ┆ ---  ┆ D           ┆ ---         ┆   ┆ ered_mm39   ┆ rds_mm39   ┆ tered_mm10 ┆ rds_mm10   │\n",
       "│ str  ┆ str  ┆ ---         ┆ str         ┆   ┆ ---         ┆ ---        ┆ ---        ┆ ---        │\n",
       "│      ┆      ┆ str         ┆             ┆   ┆ bool        ┆ str        ┆ bool       ┆ str        │\n",
       "╞══════╪══════╪═════════════╪═════════════╪═══╪═════════════╪════════════╪════════════╪════════════╡\n",
       "│ e    ┆ TTN  ┆ NM_133379   ┆ chr2:178744 ┆ … ┆ true        ┆ 4_10_4     ┆ false      ┆ 4_10_4     │\n",
       "│      ┆      ┆             ┆ 416-1787444 ┆   ┆             ┆            ┆            ┆            │\n",
       "│      ┆      ┆             ┆ 33+         ┆   ┆             ┆            ┆            ┆            │\n",
       "│ e    ┆ TTN  ┆ NM_133379   ┆ chr2:178744 ┆ … ┆ true        ┆ 4_10_4     ┆ false      ┆ 4_10_4     │\n",
       "│      ┆      ┆             ┆ 417-1787444 ┆   ┆             ┆            ┆            ┆            │\n",
       "│      ┆      ┆             ┆ 34+         ┆   ┆             ┆            ┆            ┆            │\n",
       "│ e    ┆ TTN  ┆ NM_133379   ┆ chr2:178744 ┆ … ┆ true        ┆ 4_10_4     ┆ false      ┆ 4_10_4     │\n",
       "│      ┆      ┆             ┆ 418-1787444 ┆   ┆             ┆            ┆            ┆            │\n",
       "│      ┆      ┆             ┆ 35+         ┆   ┆             ┆            ┆            ┆            │\n",
       "│ e    ┆ TTN  ┆ NM_133379   ┆ chr2:178744 ┆ … ┆ true        ┆ 4_10_4     ┆ false      ┆ 4_10_4     │\n",
       "│      ┆      ┆             ┆ 419-1787444 ┆   ┆             ┆            ┆            ┆            │\n",
       "│      ┆      ┆             ┆ 36+         ┆   ┆             ┆            ┆            ┆            │\n",
       "│ e    ┆ TTN  ┆ NM_133379   ┆ chr2:178744 ┆ … ┆ true        ┆ 4_10_4     ┆ false      ┆ 4_10_4     │\n",
       "│      ┆      ┆             ┆ 420-1787444 ┆   ┆             ┆            ┆            ┆            │\n",
       "│      ┆      ┆             ┆ 37+         ┆   ┆             ┆            ┆            ┆            │\n",
       "│ …    ┆ …    ┆ …           ┆ …           ┆ … ┆ …           ┆ …          ┆ …          ┆ …          │\n",
       "│ e    ┆ TTN  ┆ NM_133379   ┆ chr2:178807 ┆ … ┆ true        ┆ 4_10_4     ┆ false      ┆ 4_10_4     │\n",
       "│      ┆      ┆             ┆ 398-1788074 ┆   ┆             ┆            ┆            ┆            │\n",
       "│      ┆      ┆             ┆ 15+         ┆   ┆             ┆            ┆            ┆            │\n",
       "│ e    ┆ TTN  ┆ NM_133379   ┆ chr2:178807 ┆ … ┆ true        ┆ 4_10_4     ┆ false      ┆ 4_10_4     │\n",
       "│      ┆      ┆             ┆ 399-1788074 ┆   ┆             ┆            ┆            ┆            │\n",
       "│      ┆      ┆             ┆ 16+         ┆   ┆             ┆            ┆            ┆            │\n",
       "│ e    ┆ TTN  ┆ NM_133379   ┆ chr2:178807 ┆ … ┆ true        ┆ 4_10_4     ┆ false      ┆ 4_10_4     │\n",
       "│      ┆      ┆             ┆ 400-1788074 ┆   ┆             ┆            ┆            ┆            │\n",
       "│      ┆      ┆             ┆ 17+         ┆   ┆             ┆            ┆            ┆            │\n",
       "│ e    ┆ TTN  ┆ NM_133379   ┆ chr2:178807 ┆ … ┆ true        ┆ 4_10_4     ┆ false      ┆ 4_10_4     │\n",
       "│      ┆      ┆             ┆ 401-1788074 ┆   ┆             ┆            ┆            ┆            │\n",
       "│      ┆      ┆             ┆ 18+         ┆   ┆             ┆            ┆            ┆            │\n",
       "│ e    ┆ TTN  ┆ NM_133379   ┆ chr2:178807 ┆ … ┆ true        ┆ 4_10_4     ┆ false      ┆ 4_10_4     │\n",
       "│      ┆      ┆             ┆ 402-1788074 ┆   ┆             ┆            ┆            ┆            │\n",
       "│      ┆      ┆             ┆ 19+         ┆   ┆             ┆            ┆            ┆            │\n",
       "└──────┴──────┴─────────────┴─────────────┴───┴─────────────┴────────────┴────────────┴────────────┘"
      ]
     },
     "execution_count": 9,
     "metadata": {},
     "output_type": "execute_result"
    }
   ],
   "source": [
    "import pandas as pd\n",
    "import polars as pl\n",
    "pl.DataFrame(result)"
   ]
  },
  {
   "cell_type": "code",
   "execution_count": null,
   "id": "51b01649",
   "metadata": {},
   "outputs": [],
   "source": []
  }
 ],
 "metadata": {
  "kernelspec": {
   "display_name": "portal",
   "language": "python",
   "name": "python3"
  },
  "language_info": {
   "codemirror_mode": {
    "name": "ipython",
    "version": 3
   },
   "file_extension": ".py",
   "mimetype": "text/x-python",
   "name": "python",
   "nbconvert_exporter": "python",
   "pygments_lexer": "ipython3",
   "version": "3.8.12"
  }
 },
 "nbformat": 4,
 "nbformat_minor": 5
}
